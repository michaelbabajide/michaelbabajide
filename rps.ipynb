{
 "cells": [
  {
   "cell_type": "markdown",
   "metadata": {},
   "source": [
    "## Rock-Paper-Scissors Game"
   ]
  },
  {
   "cell_type": "code",
   "execution_count": 2,
   "metadata": {},
   "outputs": [
    {
     "name": "stdout",
     "output_type": "stream",
     "text": [
      "Invalid input!\n",
      "Invalid input!\n",
      "The computer plays: P\n",
      "Computer wins :(...TRY AGAIN! \n",
      "The computer plays: S\n",
      "Computer wins!...TRY AGAIN!\n",
      "The computer plays: S\n",
      "Computer wins!...TRY AGAIN!\n",
      "The computer plays: R\n",
      "Player win!\n"
     ]
    }
   ],
   "source": [
    "import random\n",
    "\n",
    "\n",
    "while True:\n",
    "    options = ['R', 'P', 'S']\n",
    "    computer = random.choice(options)\n",
    "    player = input(\"Enter move:\")\n",
    "    computer_wins = 0\n",
    "\n",
    "    while player not in options and computer_wins >= 0:\n",
    "        print('Invalid input!')\n",
    "        player = input(\"Pick an option from R, P and S:\")\n",
    "\n",
    "    print(f\"The computer plays: {computer}\")\n",
    "\n",
    "    while player == computer and computer_wins >= 0:\n",
    "        print(\"It's a tie!\")\n",
    "        player = input(\"Pick an option from R, P and S:\")\n",
    "\n",
    "    if player == \"R\":\n",
    "        if computer == \"P\":\n",
    "            print(\"Computer wins :(...TRY AGAIN! \")\n",
    "            computer_wins += 1\n",
    "        else:\n",
    "            print(\"Player wins!\")\n",
    "            break\n",
    "    elif player == \"P\":\n",
    "        if computer == \"R\":\n",
    "            print(\"Player win!\")\n",
    "            break\n",
    "        else:\n",
    "            print(\"Computer wins!...TRY AGAIN!\")\n",
    "            computer_wins += 1\n",
    "    elif (player == \"S\"):\n",
    "        if (computer == \"R\"):\n",
    "            print(\"Computer wins!...TRY AGAIN!\")\n",
    "            computer_wins += 1\n",
    "        else:\n",
    "            print(\"You win!\")\n",
    "            break\n",
    "    "
   ]
  }
 ],
 "metadata": {
  "kernelspec": {
   "display_name": "Python 3.9.0 64-bit",
   "language": "python",
   "name": "python3"
  },
  "language_info": {
   "codemirror_mode": {
    "name": "ipython",
    "version": 3
   },
   "file_extension": ".py",
   "mimetype": "text/x-python",
   "name": "python",
   "nbconvert_exporter": "python",
   "pygments_lexer": "ipython3",
   "version": "3.9.0"
  },
  "orig_nbformat": 4,
  "vscode": {
   "interpreter": {
    "hash": "4bc28944e21817ff53c95a82e09f20ab94c1769f2da295122ef06b4e3226ea6a"
   }
  }
 },
 "nbformat": 4,
 "nbformat_minor": 2
}
